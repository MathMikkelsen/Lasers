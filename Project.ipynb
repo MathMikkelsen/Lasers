{
  "nbformat": 4,
  "nbformat_minor": 0,
  "metadata": {
    "colab": {
      "provenance": [],
      "include_colab_link": true
    },
    "kernelspec": {
      "name": "python3",
      "display_name": "Python 3"
    },
    "language_info": {
      "name": "python"
    }
  },
  "cells": [
    {
      "cell_type": "markdown",
      "metadata": {
        "id": "view-in-github",
        "colab_type": "text"
      },
      "source": [
        "<a href=\"https://colab.research.google.com/github/MathMikkelsen/Lasers/blob/main/Project.ipynb\" target=\"_parent\"><img src=\"https://colab.research.google.com/assets/colab-badge.svg\" alt=\"Open In Colab\"/></a>"
      ]
    },
    {
      "cell_type": "code",
      "execution_count": null,
      "metadata": {
        "id": "sIyGG7h6s4F0"
      },
      "outputs": [],
      "source": [
        "import numpy as np\n",
        "import matplotlib.pyplot as plt"
      ]
    },
    {
      "cell_type": "code",
      "source": [
        "R_in=0.035\n",
        "R_out=0.035\n",
        "t_in=1-R_in\n",
        "t_out=1-R_out\n",
        "E_0=1\n",
        "#angle of incidence\n",
        "theta_0=0.2\n",
        "#wedge angle\n",
        "alpha=10**-4\n",
        "\n",
        "phi=1\n",
        "#thickness of wedge\n",
        "w=1\n",
        "n=1\n",
        "nmax=10\n",
        "#n'th angle of incidence (missing negative incidence)\n",
        "def theta_n(theta_0,alpha,n):\n",
        "  return theta_0+2*(n-1)*alpha\n",
        "\n",
        "#wavelength\n",
        "def phase_n(theta_0, alpha, w, n):\n",
        "    return 2*np.pi*w*(np.sin(theta_n(theta_0,alpha,n))-np.sin(theta_0))\n",
        "\n",
        "#n>=2\n",
        "def E_trans(r_in,r_out,E_0,theta_0,alpha,n):\n",
        "    Sum=0\n",
        "\n",
        "    for i in range(2,nmax):\n",
        "        Sum+=(r_in*r_out)**i*np.exp(1j*(phase_n(theta_0, alpha, w, i)+(i-1)*(phi1_out+phi1_in)))\n",
        "    return E_0*(1-r_in)*(1-r_out)*(1+(r_in*r_out)**-1*Sum)"
      ],
      "metadata": {
        "id": "VSh1AxNLtRDC"
      },
      "execution_count": null,
      "outputs": []
    },
    {
      "cell_type": "code",
      "source": [],
      "metadata": {
        "id": "8-2M9DHJtYnb"
      },
      "execution_count": null,
      "outputs": []
    },
    {
      "cell_type": "code",
      "source": [],
      "metadata": {
        "id": "g7GUljnuAawk"
      },
      "execution_count": null,
      "outputs": []
    }
  ]
}